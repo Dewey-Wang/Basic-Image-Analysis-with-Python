{
 "cells": [
  {
   "cell_type": "markdown",
   "metadata": {
    "collapsed": false
   },
   "source": [
    "## Tasks Intensity Analysis\n",
    "\n",
    "The folder ```data/U2OS``` contains images of Hoechst-stained cells taken from a large high-throughput screening experiment [https://data.broadinstitute.org/bbbc/BBBC022/].\n",
    "If you look at the filenames, you can see that we actually have images from 4 different wells in the multiwell experiment:\n",
    "  * A01\n",
    "  * A03\n",
    "  * B14\n",
    "  * D20\n",
    "\n",
    "There are differences in intensity in some of the wells, but in this taks, we will be looking at differences in cell shape and size."
   ]
  },
  {
   "cell_type": "markdown",
   "metadata": {
    "collapsed": false
   },
   "source": [
    "Note, the easiest way to get all images from a well is to use ```glob```:\n",
    "\n",
    "E.g. to get all .tif files in the folder:"
   ]
  },
  {
   "cell_type": "code",
   "execution_count": 10,
   "metadata": {
    "collapsed": false
   },
   "outputs": [
    {
     "data": {
      "text/plain": [
       "['data/U2OS/IXMtest_A03_s6_w19CC2750E-C178-4E0F-9514-49C1695BDCE9.tif',\n",
       " 'data/U2OS/IXMtest_B14_s5_w1BE2FABD1-D37D-4FE3-A0F6-6B502AF7AF83.tif',\n",
       " 'data/U2OS/IXMtest_D20_s2_w1ABBC48AB-B675-41D9-853E-E310F0BE565B.tif',\n",
       " 'data/U2OS/IXMtest_A01_s4_w10B4022BF-FD04-47D5-8AC2-07DD1A4463C5.tif',\n",
       " 'data/U2OS/IXMtest_D20_s7_w1A6448875-18F5-4882-957D-92C72756F799.tif',\n",
       " 'data/U2OS/IXMtest_A01_s9_w140BD534C-2B5F-4852-B221-C1190ED33CAB.tif',\n",
       " 'data/U2OS/IXMtest_B14_s4_w1327076C9-2000-4205-923C-342386C8AC94.tif',\n",
       " 'data/U2OS/IXMtest_A03_s1_w1864B0B3E-3B1E-4F55-8009-768C94FF526E.tif',\n",
       " 'data/U2OS/IXMtest_A03_s8_w193AEE354-2C2F-4B7D-873F-DD042A6CFDEA.tif',\n",
       " 'data/U2OS/IXMtest_A03_s2_w17D2BEC0B-2231-4955-9731-DBDC0D4C6CD2.tif',\n",
       " 'data/U2OS/IXMtest_D20_s5_w13171BD66-AE66-4B59-BC84-74DC3756F30E.tif',\n",
       " 'data/U2OS/IXMtest_B14_s7_w12ACD629F-8B83-4B40-AEA3-390C8607EF47.tif',\n",
       " 'data/U2OS/IXMtest_A03_s3_w1758F1212-86E4-440F-A15F-540FDED56203.tif',\n",
       " 'data/U2OS/IXMtest_D20_s8_w1AA575E07-CB17-40E3-98EB-153E8AEE5DAD.tif',\n",
       " 'data/U2OS/IXMtest_D20_s6_w1F68DF488-27FD-4C71-AB62-8FD16A3FA85A.tif',\n",
       " 'data/U2OS/IXMtest_D20_s3_w1F5AD96CB-DEA4-4F90-B5AB-B09C3DE642A2.tif',\n",
       " 'data/U2OS/IXMtest_B14_s2_w1555A4CAC-3B8F-4374-A736-C970EECC72B1.tif',\n",
       " 'data/U2OS/IXMtest_A03_s4_w1A94B2F19-F85C-46F9-9055-40DA794176F4.tif',\n",
       " 'data/U2OS/IXMtest_A03_s7_w1F70976F8-C28F-41E8-90FD-FF222D002B5E.tif',\n",
       " 'data/U2OS/IXMtest_B14_s8_w10702E909-84E2-408C-832F-EA1083912950.tif',\n",
       " 'data/U2OS/IXMtest_A01_s3_w14508A23C-21DC-41DD-B7FB-5A853214C39F.tif',\n",
       " 'data/U2OS/IXMtest_A01_s6_w19A9D9C21-9C1A-4C0A-BD31-3AD2AEDD8CBD.tif',\n",
       " 'data/U2OS/IXMtest_A01_s8_w19781E10F-DAF1-4A4D-A195-A41D4B5AE7E4.tif',\n",
       " 'data/U2OS/IXMtest_A01_s7_w13CA788BF-1870-4850-BA5D-B12B5A5348DB.tif',\n",
       " 'data/U2OS/IXMtest_B14_s9_w1E4C8B8B3-BBC4-42E6-AC47-F08E8B806E1D.tif',\n",
       " 'data/U2OS/IXMtest_A01_s1_w1C9626713-4D2F-4D4E-A00A-705821A555AB.tif',\n",
       " 'data/U2OS/IXMtest_D20_s9_w128A3655A-33DA-4E4F-8ED0-8CD95C808EBC.tif',\n",
       " 'data/U2OS/IXMtest_A03_s9_w11DC47E6E-C5C3-4422-BFBB-771E6E2CADF0.tif',\n",
       " 'data/U2OS/IXMtest_D20_s4_w15B544E07-DC70-47B8-ABAF-072B5E5B95D8.tif',\n",
       " 'data/U2OS/IXMtest_B14_s3_w1700FA7C2-453C-4E7C-BD48-33B100A469E7.tif',\n",
       " 'data/U2OS/IXMtest_B14_s6_w1BA502379-01D6-4EEC-8C16-FB51182194F8.tif',\n",
       " 'data/U2OS/IXMtest_A03_s5_w18FD8234D-6BF7-4893-A67A-7AFE79CD93CA.tif',\n",
       " 'data/U2OS/IXMtest_B14_s1_w16A33AE9A-E273-4030-A3E8-5D9B0EF619CF.tif',\n",
       " 'data/U2OS/IXMtest_A01_s2_w1B3F8BADE-D131-43D9-9747-F5F697356A1D.tif',\n",
       " 'data/U2OS/IXMtest_A01_s5_w1BB79F5A1-92E4-4B76-96D8-55387AA5C3AA.tif',\n",
       " 'data/U2OS/IXMtest_D20_s1_w13F9BFB6C-6DF6-49ED-B375-4974ACEF41D3.tif']"
      ]
     },
     "execution_count": 10,
     "metadata": {
     },
     "output_type": "execute_result"
    }
   ],
   "source": [
    "from glob import glob\n",
    "glob('data/U2OS/*.tif')"
   ]
  },
  {
   "cell_type": "markdown",
   "metadata": {
    "collapsed": false
   },
   "source": [
    "You can specify parts of the filenames that have to be present, e.g. to get all filenames starting with \"IXMtest_A01\", you can use:"
   ]
  },
  {
   "cell_type": "code",
   "execution_count": 11,
   "metadata": {
    "collapsed": false
   },
   "outputs": [
    {
     "data": {
      "text/plain": [
       "['data/U2OS/IXMtest_A01_s4_w10B4022BF-FD04-47D5-8AC2-07DD1A4463C5.tif',\n",
       " 'data/U2OS/IXMtest_A01_s9_w140BD534C-2B5F-4852-B221-C1190ED33CAB.tif',\n",
       " 'data/U2OS/IXMtest_A01_s3_w14508A23C-21DC-41DD-B7FB-5A853214C39F.tif',\n",
       " 'data/U2OS/IXMtest_A01_s6_w19A9D9C21-9C1A-4C0A-BD31-3AD2AEDD8CBD.tif',\n",
       " 'data/U2OS/IXMtest_A01_s8_w19781E10F-DAF1-4A4D-A195-A41D4B5AE7E4.tif',\n",
       " 'data/U2OS/IXMtest_A01_s7_w13CA788BF-1870-4850-BA5D-B12B5A5348DB.tif',\n",
       " 'data/U2OS/IXMtest_A01_s1_w1C9626713-4D2F-4D4E-A00A-705821A555AB.tif',\n",
       " 'data/U2OS/IXMtest_A01_s2_w1B3F8BADE-D131-43D9-9747-F5F697356A1D.tif',\n",
       " 'data/U2OS/IXMtest_A01_s5_w1BB79F5A1-92E4-4B76-96D8-55387AA5C3AA.tif']"
      ]
     },
     "execution_count": 11,
     "metadata": {
     },
     "output_type": "execute_result"
    }
   ],
   "source": [
    "glob('data/U2OS/IXMtest_A01*.tif')"
   ]
  },
  {
   "cell_type": "code",
   "execution_count": 12,
   "metadata": {
    "collapsed": false
   },
   "outputs": [
    {
     "data": {
      "text/plain": [
       "['data/U2OS/IXMtest_B14_s5_w1BE2FABD1-D37D-4FE3-A0F6-6B502AF7AF83.tif',\n",
       " 'data/U2OS/IXMtest_B14_s4_w1327076C9-2000-4205-923C-342386C8AC94.tif',\n",
       " 'data/U2OS/IXMtest_B14_s7_w12ACD629F-8B83-4B40-AEA3-390C8607EF47.tif',\n",
       " 'data/U2OS/IXMtest_B14_s2_w1555A4CAC-3B8F-4374-A736-C970EECC72B1.tif',\n",
       " 'data/U2OS/IXMtest_B14_s8_w10702E909-84E2-408C-832F-EA1083912950.tif',\n",
       " 'data/U2OS/IXMtest_B14_s9_w1E4C8B8B3-BBC4-42E6-AC47-F08E8B806E1D.tif',\n",
       " 'data/U2OS/IXMtest_B14_s3_w1700FA7C2-453C-4E7C-BD48-33B100A469E7.tif',\n",
       " 'data/U2OS/IXMtest_B14_s6_w1BA502379-01D6-4EEC-8C16-FB51182194F8.tif',\n",
       " 'data/U2OS/IXMtest_B14_s1_w16A33AE9A-E273-4030-A3E8-5D9B0EF619CF.tif']"
      ]
     },
     "execution_count": 12,
     "metadata": {
     },
     "output_type": "execute_result"
    }
   ],
   "source": [
    "glob('data/U2OS/IXMtest_B14*.tif')"
   ]
  },
  {
   "cell_type": "markdown",
   "metadata": {
    "collapsed": false
   },
   "source": [
    "**Task:** Compare wells A01 and B14 by:\n",
    "\n",
    "- segmenting the cells via thresholding\n",
    "- labelling the individual cells\n",
    "- comparing the number of cells in each image for both wells\n",
    "- **Optional:** perform an adequate statistical test  \n",
    "\n"
   ]
  },
  {
   "cell_type": "code",
   "execution_count": 13,
   "metadata": {
    "collapsed": false
   },
   "outputs": [
    {
     "name": "stdout",
     "output_type": "stream",
     "text": [
      "48 114\n",
      "49 111\n",
      "77 95\n",
      "70 87\n",
      "47 78\n",
      "78 98\n",
      "83 103\n",
      "40 89\n",
      "62 106\n",
      "t-statistic:  -5.464439124516433\n",
      "p-value:  5.1949684569154774e-05\n"
     ]
    }
   ],
   "source": [
    "from glob import glob\n",
    "from skimage.io import imread\n",
    "from matplotlib import pyplot as plt\n",
    "\n",
    "A01_paths = glob('data/U2OS/IXMtest_A01*.tif')\n",
    "B14_paths = glob('data/U2OS/IXMtest_B14*.tif')\n",
    "\n",
    "A01_paths.sort()\n",
    "B14_paths.sort()\n",
    "\n",
    "A01_images = [imread(image) for image in A01_paths]\n",
    "B14_images = [imread(image) for image in B14_paths]\n",
    "\n",
    "from skimage.filters import try_all_threshold\n",
    "from skimage.filters import threshold_li\n",
    "from skimage.morphology import remove_small_holes\n",
    "from skimage.morphology import remove_small_objects\n",
    "\n",
    "\n",
    "\n",
    "A01_threshold_images = [A01_image > threshold_li(A01_image) for A01_image in A01_images]\n",
    "A01_threshold_images = [remove_small_holes(A01_image) for A01_image in A01_threshold_images]\n",
    "A01_threshold_images = [remove_small_objects(A01_image) for A01_image in A01_threshold_images]\n",
    "\n",
    "\n",
    "B14_threshold_images = [B14_image > threshold_li(B14_image) for B14_image in B14_images]\n",
    "B14_threshold_images = [remove_small_holes(B14_image) for B14_image in B14_threshold_images]\n",
    "B14_threshold_images = [remove_small_objects(B14_image) for B14_image in B14_threshold_images]\n",
    "\n",
    "\n",
    "\n",
    "from skimage.morphology import label\n",
    "labelled_A01_imgs = [label(A01_threshold_image) for A01_threshold_image in A01_threshold_images]\n",
    "labelled_B14_imgs = [label(B14_threshold_image) for B14_threshold_image in B14_threshold_images]\n",
    "\n",
    "\n",
    "A_num_cell = []\n",
    "B_num_cell = []\n",
    "for itemA, itemB in zip(labelled_A01_imgs, labelled_B14_imgs):\n",
    "    print(itemA.max(), itemB.max())\n",
    "    A_num_cell.append(itemA.max())\n",
    "    B_num_cell.append(itemB.max())\n",
    "\n",
    "\n",
    "from scipy.stats import ttest_ind\n",
    "\n",
    "t, p =ttest_ind(A_num_cell, B_num_cell)\n",
    "print(\"t-statistic: \", t)\n",
    "print(\"p-value: \", p)"
   ]
  },
  {
   "cell_type": "markdown",
   "metadata": {
    "collapsed": false
   },
   "source": [
    "**Task:** Compare wells A01 and D20 by:\n",
    "  * segmenting the cells via thresholding\n",
    "  * labelling the individual cells\n",
    "  * using ```regionprops``` to get the area of the segmented cells (ignore cells touching the border of the images)\n",
    "  * **Optional:** use statistical tests to check if the difference is significant"
   ]
  },
  {
   "cell_type": "code",
   "execution_count": 14,
   "metadata": {
    "collapsed": false,
    "scrolled": true
   },
   "outputs": [
    {
     "name": "stdout",
     "output_type": "stream",
     "text": [
      "[814.7894736842105, 845.1111111111111, 783.0757575757576, 852.0333333333333, 856.921052631579, 834.7, 886.4428571428572, 775.3714285714286, 888.1851851851852] [1017.7321428571429, 1023.639344262295, 958.7058823529412, 976.7857142857143, 1210.0217391304348, 994.3833333333333, 975.655737704918, 994.9354838709677, 947.8870967741935]\n",
      "t-statistic:  -5.897580351041181\n",
      "p-value:  2.2493941012737218e-05\n"
     ]
    }
   ],
   "source": [
    "from glob import glob\n",
    "from skimage.io import imread\n",
    "from matplotlib import pyplot as plt\n",
    "\n",
    "pathlist_1 = glob('data/U2OS/IXMtest_A01*.tif')\n",
    "pathlist_2 = glob('data/U2OS/IXMtest_D20*.tif')\n",
    "\n",
    "pathlist_1.sort()\n",
    "pathlist_2.sort()\n",
    "\n",
    "imglist_1 = []\n",
    "for idx in pathlist_1:\n",
    "    imglist_1.append(imread(idx))\n",
    "\n",
    "imglist_2 = []\n",
    "for idx in pathlist_2:\n",
    "    imglist_2.append(imread(idx))\n",
    "\n",
    "\n",
    "from skimage.filters import threshold_li\n",
    "from skimage.morphology import remove_small_holes\n",
    "from skimage.morphology import remove_small_objects\n",
    "\n",
    "thresh_imglist_1 = []\n",
    "\n",
    "for img in imglist_1:\n",
    "    thresh_img = img > threshold_li(img)\n",
    "    thresh_img = remove_small_holes(thresh_img)\n",
    "    thresh_img = remove_small_objects(thresh_img)\n",
    "    thresh_imglist_1.append(thresh_img)\n",
    "\n",
    "thresh_imglist_2 = []\n",
    "\n",
    "for img in imglist_2:\n",
    "    thresh_img = img > threshold_li(img)\n",
    "    thresh_img = remove_small_holes(thresh_img)\n",
    "    thresh_img = remove_small_objects(thresh_img)\n",
    "    thresh_imglist_2.append(thresh_img)\n",
    "\n",
    "\n",
    "from skimage.morphology import label\n",
    "\n",
    "labelled_imglist_1 = []\n",
    "\n",
    "for img in thresh_imglist_1:\n",
    "    labelled_img = label(img)\n",
    "    labelled_imglist_1.append(labelled_img)\n",
    "\n",
    "labelled_imglist_2 = []\n",
    "\n",
    "for img in thresh_imglist_2:\n",
    "    labelled_img = label(img)\n",
    "    labelled_imglist_2.append(labelled_img)\n",
    "\n",
    "\n",
    "\n",
    "from skimage.segmentation import clear_border\n",
    "\n",
    "clear_border_imglist_1 = []\n",
    "for img in labelled_imglist_1:\n",
    "    clear_border_img = clear_border(img)\n",
    "    clear_border_imglist_1.append(clear_border_img)\n",
    "\n",
    "\n",
    "clear_border_imglist_2 = []\n",
    "for img in labelled_imglist_2:\n",
    "    clear_border_img = clear_border(img)\n",
    "    clear_border_imglist_2.append(clear_border_img)\n",
    "\n",
    "\n",
    "\n",
    "\n",
    "from skimage.measure import regionprops\n",
    "import numpy as np\n",
    "\n",
    "\n",
    "areas_list_1 = []\n",
    "for img in clear_border_imglist_1:\n",
    "    areas = []\n",
    "    objects = regionprops(img)\n",
    "    for obj in objects:\n",
    "        areas.append(obj.area)\n",
    "    areas_list_1.append(np.mean(areas))\n",
    "\n",
    "    \n",
    "areas_list_2 = []\n",
    "for img in clear_border_imglist_2:\n",
    "    areas = []\n",
    "    objects = regionprops(img)\n",
    "    for obj in objects:\n",
    "        areas.append(obj.area)\n",
    "    areas_list_2.append(np.mean(areas))\n",
    "    \n",
    "from scipy.stats import ttest_ind\n",
    "\n",
    "t, p =ttest_ind(areas_list_1, areas_list_2)\n",
    "print(areas_list_1,areas_list_2)\n",
    "print(\"t-statistic: \", t)\n",
    "print(\"p-value: \", p)"
   ]
  },
  {
   "cell_type": "markdown",
   "metadata": {
    "collapsed": false
   },
   "source": [
    "**Task:** Compare wells A01 and A03. The cell numbers and sizes in those are similar. We have simulated a second channel with a nuclear protein and placed the images in ```data/U2OS/ch2```\n",
    "\n",
    "- Load the Hoechst images and the corresponding ch2 images. **Note:** `glob` might return filenames in random order \\- make sure that you actually load corresponding images.\n",
    "- Segment individual cells in the Hoechst channel and use the second channel as an intensity channel for `regionprops`\n",
    "- Do the mean ch2\\-intensities differ in A01 and A03?\n",
    "- Make histograms of the mean ch2 intensities for both wells  \n",
    "- Compare the cell\\-to\\-cell variation in each image \\(e.g. using the standard deviation of the mean intensities in each images\\)\n",
    "- **Optional:** Perform an adequate test for significance\n",
    "\n"
   ]
  },
  {
   "cell_type": "code",
   "execution_count": 15,
   "metadata": {
    "collapsed": false,
    "scrolled": true
   },
   "outputs": [
    {
     "name": "stdout",
     "output_type": "stream",
     "text": [
      "176.07942365493398 176.4207172142262\n"
     ]
    }
   ],
   "source": [
    "from glob import glob\n",
    "from skimage.io import imread\n",
    "from matplotlib import pyplot as plt\n",
    "\n",
    "pathlist_1 = glob('data/U2OS/IXMtest_A01*.tif')\n",
    "pathlist_2 = glob('data/U2OS/IXMtest_A03*.tif')\n",
    "pathlist_3 = glob('data/U2OS/ch2/IXMtest_A01*.tif')\n",
    "pathlist_4 = glob('data/U2OS/ch2/IXMtest_A03*.tif')\n",
    "\n",
    "\n",
    "pathlist_1.sort()\n",
    "pathlist_2.sort()\n",
    "pathlist_3.sort()\n",
    "pathlist_4.sort()\n",
    "\n",
    "imglist_1 = []\n",
    "for idx in pathlist_1:\n",
    "    imglist_1.append(imread(idx))\n",
    "\n",
    "imglist_2 = []\n",
    "for idx in pathlist_2:\n",
    "    imglist_2.append(imread(idx))\n",
    "\n",
    "imglist_3 = []\n",
    "for idx in pathlist_3:\n",
    "    imglist_3.append(imread(idx))\n",
    "\n",
    "imglist_4 = []\n",
    "for idx in pathlist_4:\n",
    "    imglist_4.append(imread(idx))\n",
    "\n",
    "\n",
    "from skimage.filters import threshold_li\n",
    "from skimage.morphology import remove_small_holes\n",
    "from skimage.morphology import remove_small_objects\n",
    "\n",
    "thresh_imglist_1 = []\n",
    "\n",
    "for img in imglist_1:\n",
    "    thresh_img = img > threshold_li(img)\n",
    "    thresh_img = remove_small_holes(thresh_img)\n",
    "    thresh_img = remove_small_objects(thresh_img)\n",
    "    thresh_imglist_1.append(thresh_img)\n",
    "\n",
    "thresh_imglist_2 = []\n",
    "\n",
    "for img in imglist_2:\n",
    "    thresh_img = img > threshold_li(img)\n",
    "    thresh_img = remove_small_holes(thresh_img)\n",
    "    thresh_img = remove_small_objects(thresh_img)\n",
    "    thresh_imglist_2.append(thresh_img)\n",
    "\n",
    "\n",
    "from skimage.morphology import label\n",
    "\n",
    "labelled_imglist_1 = []\n",
    "\n",
    "for img in thresh_imglist_1:\n",
    "    labelled_img = label(img)\n",
    "    labelled_imglist_1.append(labelled_img)\n",
    "\n",
    "labelled_imglist_2 = []\n",
    "\n",
    "for img in thresh_imglist_2:\n",
    "    labelled_img = label(img)\n",
    "    labelled_imglist_2.append(labelled_img)\n",
    "\n",
    "    \n",
    "from skimage.measure import regionprops\n",
    "import numpy as np\n",
    "\n",
    "mean_1 = []\n",
    "for img_ch1, img_ch2 in zip(labelled_imglist_1, imglist_3):\n",
    "    intensity_1 = []\n",
    "    objects = regionprops(img_ch1, img_ch2)\n",
    "    for obj in objects:\n",
    "        intensity_1.append(obj.mean_intensity)\n",
    "    mean_1.append(np.mean(intensity_1))\n",
    "\n",
    "mean_2 = []\n",
    "for img_ch1, img_ch2 in zip(labelled_imglist_2, imglist_4):\n",
    "    intensity_2 = []\n",
    "    objects = regionprops(img_ch1, img_ch2)\n",
    "    for obj in objects:\n",
    "        intensity_2.append(obj.mean_intensity)\n",
    "    mean_2.append(np.mean(intensity_2))\n",
    "    \n",
    "print(np.mean(mean_1), np.mean(mean_2))"
   ]
  },
  {
   "cell_type": "code",
   "execution_count": 16,
   "metadata": {
    "collapsed": false
   },
   "outputs": [
    {
     "data": {
      "image/png": "[encoded data removed]",
      "text/plain": [
       "<Figure size 864x504 with 1 Axes>"
      ]
     },
     "execution_count": 16,
     "metadata": {
      "image/png": {
       "height": 440,
       "width": 717
      },
      "needs_background": "light"
     },
     "output_type": "execute_result"
    },
    {
     "data": {
      "image/png": "[encoded data removed]",
      "text/plain": [
       "<Figure size 864x504 with 1 Axes>"
      ]
     },
     "execution_count": 16,
     "metadata": {
      "image/png": {
       "height": 440,
       "width": 717
      },
      "needs_background": "light"
     },
     "output_type": "execute_result"
    }
   ],
   "source": [
    "import matplotlib.pyplot as plt\n",
    "\n",
    "# An \"interface\" to matplotlib.axes.Axes.hist() method\n",
    "n, bins, patches = plt.hist(x=mean_1, bins='auto', color='#0504aa',\n",
    "                            alpha=0.7, rwidth=0.85)\n",
    "plt.grid(axis='y', alpha=0.75)\n",
    "plt.xlabel('Area Value')\n",
    "plt.ylabel('Frequency')\n",
    "plt.title('A01 Histogram')\n",
    "maxfreq = n.max()\n",
    "# Set a clean upper y-axis limit.\n",
    "plt.ylim(ymax=np.ceil(maxfreq / 10) * 10 if maxfreq % 10 else maxfreq + 10)\n",
    "plt.show()\n",
    "\n",
    "n_2, bins_2, patches_2 = plt.hist(x=mean_2, bins='auto', color='#0504aa',\n",
    "                            alpha=0.7, rwidth=0.85)\n",
    "plt.grid(axis='y', alpha=0.75)\n",
    "plt.xlabel('Area Value')\n",
    "plt.ylabel('Frequency')\n",
    "plt.title('A02 Histogram')\n",
    "maxfreq = n.max()\n",
    "# Set a clean upper y-axis limit.\n",
    "plt.ylim(ymax=np.ceil(maxfreq / 10) * 10 if maxfreq % 10 else maxfreq + 10)\n",
    "plt.show()"
   ]
  },
  {
   "cell_type": "code",
   "execution_count": 17,
   "metadata": {
    "collapsed": false
   },
   "outputs": [
    {
     "name": "stdout",
     "output_type": "stream",
     "text": [
      "175.88145083457766 0.0\n",
      "168.04932639633532 0.0\n",
      "175.862362386288 0.0\n",
      "188.5516660832553 0.0\n",
      "175.3053580840224 0.0\n",
      "179.83461484698404 0.0\n",
      "176.79884038525557 0.0\n",
      "171.09140402136617 0.0\n",
      "175.71635577034883 0.0\n",
      "169.8189099321543 0.0\n",
      "174.18551275912273 0.0\n",
      "174.59903990464431 0.0\n",
      "175.4951823386844 0.0\n",
      "177.66429487435252 0.0\n",
      "176.53709815953127 0.0\n",
      "182.85229531514653 0.0\n",
      "178.93265217657486 0.0\n",
      "175.3249035537973 0.0\n"
     ]
    }
   ],
   "source": [
    "for area_1, area_2 in zip(mean_1, mean_2):\n",
    "    print(area_1, np.std(area_1))\n",
    "    print(area_2, np.std(area_2))"
   ]
  },
  {
   "cell_type": "markdown",
   "metadata": {
    "collapsed": false
   },
   "source": [
    "## Tasks FISH spot detection\n",
    "\n",
    "The folder ```data/FISH``` contains images of DAPI-stained cells (```img_dapi*.tif```) as well as simulated DNA-Fluorescence in-situ hybridization (FISH) images (```img_fish*.tif```) showing spots within the nuclei.\n",
    "\n",
    "**Task:** use one image in the FISH channel and use ```blob_dog``` to detect the spots\n",
    "  * plot the image and visualize the detected blobs\n",
    "  \n",
    "**Tip:** you have to tune the parameters for the spot detection to work. Note that the size of the spots are a lot smaller than in the example in the handout, requiring different parameters. Also, changing the size of the plot might help to better evaluate if your detections are correct."
   ]
  },
  {
   "cell_type": "code",
   "execution_count": 19,
   "metadata": {
    "collapsed": false
   },
   "outputs": [
    {
     "name": "stdout",
     "output_type": "stream",
     "text": [
      "(960, 1280)\n"
     ]
    },
    {
     "data": {
      "image/png": "[encoded data removed]",
      "text/plain": [
       "<Figure size 864x504 with 1 Axes>"
      ]
     },
     "execution_count": 19,
     "metadata": {
      "image/png": {
       "height": 414,
       "width": 547
      },
      "needs_background": "light"
     },
     "output_type": "execute_result"
    },
    {
     "data": {
      "image/png": "[encoded data removed]",
      "text/plain": [
       "<Figure size 864x504 with 1 Axes>"
      ]
     },
     "execution_count": 19,
     "metadata": {
      "image/png": {
       "height": 414,
       "width": 547
      },
      "needs_background": "light"
     },
     "output_type": "execute_result"
    }
   ],
   "source": [
    "from glob import glob\n",
    "from skimage.io import imread\n",
    "from matplotlib import pyplot as plt\n",
    "\n",
    "dapi_path = glob('data/FISH/img_dapi*.tif')\n",
    "fish_path = glob('data/FISH/img_fish*.tif')\n",
    "dapi_path.sort()\n",
    "fish_path.sort()\n",
    "\n",
    "img = imread(fish_path[0])\n",
    "\n",
    "print(img.shape)\n",
    "plt.imshow(img)\n",
    "from skimage.feature import blob_dog\n",
    "\n",
    "blobs = blob_dog(img, min_sigma=5, threshold=.00005)\n",
    "\n",
    "fig, ax = plt.subplots()\n",
    "ax.imshow(img)\n",
    "\n",
    "for blob in blobs:\n",
    "    y, x, r = blob\n",
    "    c = plt.Circle((x, y), r, color='r', linewidth=2, fill=False)\n",
    "    ax.add_patch(c)"
   ]
  },
  {
   "cell_type": "markdown",
   "metadata": {
    "collapsed": false
   },
   "source": [
    "**Task:** Segment and label nuclei in the corresponding DAPI image\n",
    "\n",
    "  * assign the detected spots to nuclei\n",
    "  * Note: We have already written code to count the number of spots using a (default)dict in which you use the nucleus label as the key and the number of spots in that cell as the value.\n",
    "  * calcualte the average number of spots per nucleus\n",
    "\n"
   ]
  },
  {
   "cell_type": "code",
   "execution_count": 21,
   "metadata": {
    "collapsed": false
   },
   "outputs": [
    {
     "data": {
      "text/plain": [
       "array([[ 585.,  675.,    5.],\n",
       "       [ 911.,  656.,    5.],\n",
       "       [ 117.,  365.,    5.],\n",
       "       [ 640.,  611.,    5.],\n",
       "       [ 845.,  583.,    5.],\n",
       "       [ 623.,  758.,    5.],\n",
       "       [ 573.,  660.,    5.],\n",
       "       [  65.,    6.,    5.],\n",
       "       [ 268.,  259.,    5.],\n",
       "       [   0.,  148.,    8.],\n",
       "       [ 385., 1279.,    8.],\n",
       "       [ 587.,  927.,    5.],\n",
       "       [ 794.,  335.,    5.],\n",
       "       [ 294., 1261.,    5.],\n",
       "       [ 931.,  680.,    5.],\n",
       "       [ 424.,  955.,    5.],\n",
       "       [ 944.,  814.,    5.],\n",
       "       [ 345.,  454.,    5.],\n",
       "       [ 836.,  556.,    5.],\n",
       "       [ 734.,  769.,    5.],\n",
       "       [ 805.,  309.,    5.],\n",
       "       [ 660.,  619.,    5.],\n",
       "       [ 640., 1182.,    5.],\n",
       "       [ 227.,    0.,    5.],\n",
       "       [ 273.,  228.,    5.],\n",
       "       [ 698., 1199.,    5.],\n",
       "       [ 703.,  101.,    5.],\n",
       "       [ 362.,   93.,    5.],\n",
       "       [ 106.,  711.,    5.],\n",
       "       [ 922.,  638.,    5.],\n",
       "       [ 449.,  704.,    5.],\n",
       "       [ 379.,  103.,    5.],\n",
       "       [ 720.,   60.,    5.],\n",
       "       [ 387.,  118.,    5.],\n",
       "       [ 911.,  685.,    5.],\n",
       "       [ 907.,  671.,    5.],\n",
       "       [ 959.,  293.,    5.]])"
      ]
     },
     "execution_count": 21,
     "metadata": {
     },
     "output_type": "execute_result"
    }
   ],
   "source": [
    "blobs"
   ]
  },
  {
   "cell_type": "code",
   "execution_count": 33,
   "metadata": {
    "collapsed": false
   },
   "outputs": [
    {
     "name": "stdout",
     "output_type": "stream",
     "text": [
      "0.6545454545454545\n"
     ]
    }
   ],
   "source": [
    "# TODO: segment nuclei and create label image\n",
    "dapi_img = imread(dapi_path[0])\n",
    "\n",
    "from skimage.filters import threshold_li\n",
    "from skimage.morphology import remove_small_holes\n",
    "from skimage.morphology import remove_small_objects\n",
    "\n",
    "thresh_img = dapi_img > threshold_li(dapi_img)\n",
    "thresh_img = remove_small_holes(thresh_img)\n",
    "thresh_img = remove_small_objects(thresh_img)\n",
    "    \n",
    "\n",
    "from skimage.morphology import label\n",
    "\n",
    "label_image = label(thresh_img)\n",
    "\n",
    "\n",
    "    \n",
    "    \n",
    "from collections import defaultdict\n",
    "\n",
    "# a defaultdict acts like a dict but will be initialized with an int value\n",
    "# that way, you do not have to check if you encountered this label before\n",
    "spot_counts = defaultdict(int)\n",
    "\n",
    "for blob in blobs:\n",
    "    y, x, r = blob.astype(int)\n",
    "    lab = label_image[y, x] # get label at blob loaction\n",
    "    if lab > 0: # if the label is 0, the spot is outside the cells, ignore it\n",
    "        spot_counts[lab] += 1 # increase the spot count of lab by 1\n",
    "\n",
    "\n",
    "# TODO: calculate average number of spots\n",
    "print(sum(spot_counts.values())/label_image.max())"
   ]
  },
  {
   "cell_type": "markdown",
   "metadata": {
    "collapsed": false
   },
   "source": [
    "**Task:** Compare images 0-4 and 5-9\n",
    "  * Does the mean number of spots per cell differ? Significantly?"
   ]
  },
  {
   "cell_type": "code",
   "execution_count": 35,
   "metadata": {
    "collapsed": false
   },
   "outputs": [
    {
     "name": "stdout",
     "output_type": "stream",
     "text": [
      "[0.6545454545454545, 1.1666666666666667, 2.1272727272727274, 2.938775510204082, 2.8181818181818183] [5.012658227848101, 12.25, 9.936507936507937, 16.177777777777777, 16.54]\n",
      "t-statistic:  -4.6013887320376154\n",
      "p-value:  0.001752268904990376\n"
     ]
    }
   ],
   "source": [
    "from glob import glob\n",
    "from skimage.io import imread\n",
    "from matplotlib import pyplot as plt\n",
    "\n",
    "dapi_path = glob('data/FISH/img_dapi*.tif')\n",
    "fish_path = glob('data/FISH/img_fish*.tif')\n",
    "dapi_path.sort()\n",
    "fish_path.sort()\n",
    "\n",
    "dapi_list_1 = []\n",
    "for idx in dapi_path[0:5]:\n",
    "    dapi_list_1.append(imread(idx))\n",
    "\n",
    "dapi_list_2 = []\n",
    "for idx in dapi_path[5:10]:\n",
    "    dapi_list_2.append(imread(idx))\n",
    "\n",
    "fish_list_1 = []\n",
    "for idx in fish_path[0:5]:\n",
    "    fish_list_1.append(imread(idx))\n",
    "\n",
    "fish_list_2 = []\n",
    "for idx in fish_path[5:10]:\n",
    "    fish_list_2.append(imread(idx))\n",
    "\n",
    "\n",
    "\n",
    "from skimage.filters import threshold_li\n",
    "from skimage.morphology import remove_small_holes\n",
    "from skimage.morphology import remove_small_objects\n",
    "\n",
    "thresh_dapi_list_1 = []\n",
    "for dpi in dapi_list_1:\n",
    "    thresh_img = dpi > threshold_li(dpi)\n",
    "    thresh_img = remove_small_holes(thresh_img)\n",
    "    thresh_img = remove_small_objects(thresh_img)\n",
    "    thresh_dapi_list_1.append(thresh_img)\n",
    "\n",
    "    \n",
    "thresh_dapi_list_2 = []\n",
    "for dpi in dapi_list_2:\n",
    "    thresh_img = dpi > threshold_li(dpi)\n",
    "    thresh_img = remove_small_holes(thresh_img)\n",
    "    thresh_img = remove_small_objects(thresh_img)\n",
    "    thresh_dapi_list_2.append(thresh_img)\n",
    "    \n",
    "blobs_1=[]\n",
    "\n",
    "for img in fish_list_1:\n",
    "    blobs = blob_dog(img, min_sigma=5, threshold=.00005)\n",
    "    blobs_1.append(blobs)\n",
    "    \n",
    "blobs_2=[]\n",
    "\n",
    "for img in fish_list_2:\n",
    "    blobs = blob_dog(img, min_sigma=5, threshold=.00005)\n",
    "    blobs_2.append(blobs)\n",
    "    \n",
    "\n",
    "from skimage.morphology import label\n",
    "\n",
    "labelled_imglist_1 = []\n",
    "\n",
    "for img in thresh_dapi_list_1:\n",
    "    labelled_img = label(img)\n",
    "    labelled_imglist_1.append(labelled_img)\n",
    "\n",
    "labelled_imglist_2 = []\n",
    "\n",
    "for img in thresh_dapi_list_2:\n",
    "    labelled_img = label(img)\n",
    "    labelled_imglist_2.append(labelled_img)\n",
    "\n",
    "\n",
    "\n",
    "from collections import defaultdict\n",
    "\n",
    "spot_counts = defaultdict(int)\n",
    "mean_1=[]\n",
    "for label_image, blobs in zip(labelled_imglist_1, blobs_1): \n",
    "    for blob in blobs:\n",
    "        y, x, r = blob.astype(int)\n",
    "        lab = label_image[y, x] # get label at blob loaction\n",
    "        if lab > 0: # if the label is 0, the spot is outside the cells, ignore it\n",
    "            spot_counts[lab] += 1 # increase the spot count of lab by 1\n",
    "    mean_1.append(sum(spot_counts.values())/label_image.max())\n",
    "\n",
    "mean_2=[]\n",
    "for label_image, blobs in zip(labelled_imglist_2, blobs_2): \n",
    "    for blob in blobs:\n",
    "        y, x, r = blob.astype(int)\n",
    "        lab = label_image[y, x] # get label at blob loaction\n",
    "        if lab > 0: # if the label is 0, the spot is outside the cells, ignore it\n",
    "            spot_counts[lab] += 1 # increase the spot count of lab by 1\n",
    "    mean_2.append(sum(spot_counts.values())/label_image.max())\n",
    "\n",
    "\n",
    "from scipy.stats import ttest_ind\n",
    "\n",
    "t, p =ttest_ind(mean_1, mean_2)\n",
    "print(mean_1,mean_2)\n",
    "print(\"t-statistic: \", t)\n",
    "print(\"p-value: \", p)#There is a significant difference between 0:4 images and 5:9 images because the p-value is lower than 0.005."
   ]
  },
  {
   "cell_type": "markdown",
   "metadata": {
    "collapsed": false
   },
   "source": [
    "*Biological background:* When you do a FISH-staining for non-repetetive DNA loci, you expect 2 (G1 phase) - 4 (G2 phase) spots in diploid cells. You might use such an analysis to assess wheter a CRISPR knock-in is homo- or heterozygous os has off-target effects, for example. "
   ]
  }
 ],
 "metadata": {
  "kernelspec": {
   "display_name": "Python 3 (Ubuntu Linux)",
   "language": "python",
   "name": "python3-ubuntu",
   "resource_dir": "/usr/local/share/jupyter/kernels/python3-ubuntu"
  },
  "language_info": {
   "codemirror_mode": {
    "name": "ipython",
    "version": 3
   },
   "file_extension": ".py",
   "mimetype": "text/x-python",
   "name": "python",
   "nbconvert_exporter": "python",
   "pygments_lexer": "ipython3",
   "version": "3.8.10"
  }
 },
 "nbformat": 4,
 "nbformat_minor": 4
}